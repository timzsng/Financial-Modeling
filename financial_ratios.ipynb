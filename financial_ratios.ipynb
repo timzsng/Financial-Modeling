{
 "cells": [
  {
   "cell_type": "markdown",
   "metadata": {},
   "source": [
    "Source: http://www.netmba.com/finance/financial/ratios/\n",
    "\n",
    "Liquidity Ratios provide information about a firm's short term solvency; or the ability to meet its short term financial obligations"
   ]
  },
  {
   "cell_type": "code",
   "execution_count": 1,
   "metadata": {
    "collapsed": true
   },
   "outputs": [],
   "source": [
    "## current ratio is the ratio of current assets to curent liabilities\n",
    "## higher credit ratios are favorable for short term creditors\n",
    "## due to an indication of lower risk\n",
    "## current ratios vary by industry\n",
    "\n",
    "def current_ratio(current_assets, current_liabilities):\n",
    "    return current_assets/current_liabilities\n",
    "\n",
    "## quick ratio is the current ratio without inventory\n",
    "## inventory may be difficult to liquididate \n",
    "## and has uncertain liquidation values\n",
    "def quick_ratio(current_liabilities,current_liabilities, inventory):\n",
    "    return (current_assets-inventory)/current_liabilities\n",
    "\n",
    "## cash ratio is more conservative than current and quick ratios\n",
    "## cash ratio  takes into account liquid assets\n",
    "def cash_ratio(cash, marketable_securities, current_liabilities):\n",
    "    return (cash+marketable_securities)/current_liabilities\n"
   ]
  },
  {
   "cell_type": "markdown",
   "metadata": {},
   "source": [
    "Asset Turnover Ratios (aka Efficiency Ratios) indicate how efficiently the firm utilizes its assets.\n"
   ]
  },
  {
   "cell_type": "code",
   "execution_count": 6,
   "metadata": {
    "collapsed": false
   },
   "outputs": [],
   "source": [
    "## receivables turnover indicates how quickly \n",
    "## a company collects on its accounts receivables\n",
    "def receivables_turnover(annual_credit_sales, accounts_receivables):\n",
    "    return annual_credit_sales / accounts_receivables\n",
    "\n",
    "def average_collection_period(accounts_receivables, annual_credit_sales):\n",
    "    return accounts_receivables/(annual_credit_sales/365)\n",
    "\n",
    "def inventory_turnover(cost_of_goods_sold,average_inventory):\n",
    "    return cost_of_goods_sold/inventory_turnover\n",
    "\n",
    "def inventory_period(average_inventory,annual_cost_of_goods_sold):\n",
    "    return average_inventory/(annual_cost_of_goods_sold/365)"
   ]
  },
  {
   "cell_type": "markdown",
   "metadata": {},
   "source": [
    "Financial leverage ratios provide an indication of the long term solvency of the firm. Financial leverage ratios measure the extent to which the firm is using long term debt.\n"
   ]
  },
  {
   "cell_type": "code",
   "execution_count": 5,
   "metadata": {
    "collapsed": true
   },
   "outputs": [],
   "source": [
    "## debt ratios provide information about the capital structure of a company\n",
    "## debt to equity ratio shows the percentage of debt \n",
    "## keep in mind total_assets = total_debt + total_equity\n",
    "def debt_ratio(total_debt, total_assets):\n",
    "    return total_debt/total_assets\n",
    "\n",
    "def debt_equity_ratio(total_debt, total_equity):\n",
    "    return total_debt/total_equity\n",
    "\n",
    "## interest coverae ratio aka times interest earned ratio\n",
    "## indicates how well the firm's earnings can cover \n",
    "## the interest payments on debt\n",
    "def interest_coverage(earnings_before_interest_taxes, interest_charges):\n",
    "    return earnings_before_interest_taxes/interest_charges\n"
   ]
  },
  {
   "cell_type": "markdown",
   "metadata": {},
   "source": [
    "Profitability ratios measure the success of the firm's ability to generate profits."
   ]
  },
  {
   "cell_type": "code",
   "execution_count": null,
   "metadata": {
    "collapsed": true
   },
   "outputs": [],
   "source": [
    "## gross profit margin measures the gross profit earned on sales. \n",
    "## this only considers the firm's cost of goods sold\n",
    "def gross_profit_margin(sales, cost_of_goods_sold):\n",
    "    return  (sales - cost_of_goods_sold)/sales\n",
    "\n",
    "## return on assets is a measure of how effectively \n",
    "##the firm's assets are being used to generate profits\n",
    "def return_on_assets(net_income, total_assets):\n",
    "    return net_income/total_assets\n",
    "\n",
    "## return on equity measures the profit earned \n",
    "## for each dollar invested in the firm's stock\n",
    "def return_on_equity(net_income, shareholder_equity):\n",
    "    return net_income/shareholder_equity"
   ]
  },
  {
   "cell_type": "markdown",
   "metadata": {},
   "source": [
    "Dividend policy ratios provide insight into the dividend policy of the firm and the prospects for future growth."
   ]
  },
  {
   "cell_type": "code",
   "execution_count": 7,
   "metadata": {
    "collapsed": true
   },
   "outputs": [],
   "source": [
    "def dividend_yield(dividends_per_share, share_price):\n",
    "    return dividends_per_share/share_price\n",
    "\n",
    "def payout_ratio(dividends_per_share, earnings_per_share):\n",
    "    return dividends_per_share/earnings_per_share"
   ]
  }
 ],
 "metadata": {
  "kernelspec": {
   "display_name": "Python 3",
   "language": "python",
   "name": "python3"
  },
  "language_info": {
   "codemirror_mode": {
    "name": "ipython",
    "version": 3
   },
   "file_extension": ".py",
   "mimetype": "text/x-python",
   "name": "python",
   "nbconvert_exporter": "python",
   "pygments_lexer": "ipython3",
   "version": "3.6.0"
  }
 },
 "nbformat": 4,
 "nbformat_minor": 2
}
