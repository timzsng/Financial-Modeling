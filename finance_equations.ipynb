{
 "cells": [
  {
   "cell_type": "code",
   "execution_count": 2,
   "metadata": {
    "collapsed": false
   },
   "outputs": [],
   "source": [
    "from collections import namedtuple\n",
    "\n",
    "## compute the NPV\n",
    "def net_present_value(cashflows, discount_rate):\n",
    "    return sum(cf/(1 + discount_rate)**i for i, cf in enumerate(cashflows))\n",
    "\n",
    "CapitalSource = namedtuple('CapitalSource', 'name rate market_value debt')\n",
    "CapitalSource.__doc__ = \"rate is required rate of return for security, debt is T/F\"\n",
    "\n",
    "## compute the WACC\n",
    "def wacc(sources_of_capital, tax_rate = .30):\n",
    "    soc = list(sources_of_capital)\n",
    "    return (sum(cs.rate * cs.market_value * (1 - (tax_rate if cs.debt else 0))\n",
    "                            for cs in soc)\n",
    "            /sum(cs.market_value for cs in soc))\n",
    "\n",
    "## intermediate function for WACC to incorporate the tax shield of debt\n",
    "def capital_source(name, rate, market_value, debt=False):\n",
    "    return CapitalSource(name, rate, market_value, debt)"
   ]
  },
  {
   "cell_type": "code",
   "execution_count": 3,
   "metadata": {
    "collapsed": false
   },
   "outputs": [],
   "source": [
    "## main function\n",
    "def main():\n",
    "    assert round(net_present_value([-35_000, 10_000, 27_000, 19_000], 0.12)) == 8_977\n",
    "    ce = capital_source('common equity', .12, 46.6, False)\n",
    "    pe = capital_source('preferred quity', .1, 10.3, False)\n",
    "    ltd = capital_source('long term debt', .08, 35, True)\n",
    "    assert round(wacc([ce, pe, ltd]), 4) == .0934\n",
    "\n",
    "if __name__ == \"__main__\":\n",
    "    main()"
   ]
  },
  {
   "cell_type": "code",
   "execution_count": 4,
   "metadata": {
    "collapsed": false
   },
   "outputs": [
    {
     "data": {
      "text/plain": [
       "0.09338411316648532"
      ]
     },
     "execution_count": 4,
     "metadata": {},
     "output_type": "execute_result"
    }
   ],
   "source": [
    "#helper code\n",
    "ce = capital_source('common equity', .12, 46.6, False)\n",
    "pe = capital_source('preferred quity', .1, 10.3, False)\n",
    "ltd = capital_source('long term debt', .08, 35, True)\n",
    "wacc([ce, pe, ltd])\n",
    "    "
   ]
  },
  {
   "cell_type": "code",
   "execution_count": 5,
   "metadata": {
    "collapsed": true
   },
   "outputs": [],
   "source": [
    "#unit tests\n",
    "import unittest\n",
    "\n",
    "class Tests(unittest.TestCase):\n",
    "    \n",
    "    def test_net_present_value(self):\n",
    "        self.assertAlmostEqual(net_present_value([-35_000, 10_000, 27_000, 19_000], 0.12), \n",
    "                               8_977, \n",
    "                               places=0)\n",
    "    \n",
    "    def test_wacc(self):\n",
    "        ce = capital_source('common equity', .12, 46.6, False)\n",
    "        pe = capital_source('preferred quity', .1, 10.3, False)\n",
    "        ltd = capital_source('long term debt', .08, 35, True)\n",
    "        self.assertAlmostEqual(wacc([ce, pe, ltd]), \n",
    "                           .0934, \n",
    "                           places = 4)"
   ]
  },
  {
   "cell_type": "code",
   "execution_count": null,
   "metadata": {
    "collapsed": true
   },
   "outputs": [],
   "source": []
  }
 ],
 "metadata": {
  "kernelspec": {
   "display_name": "Python 3",
   "language": "python",
   "name": "python3"
  },
  "language_info": {
   "codemirror_mode": {
    "name": "ipython",
    "version": 3
   },
   "file_extension": ".py",
   "mimetype": "text/x-python",
   "name": "python",
   "nbconvert_exporter": "python",
   "pygments_lexer": "ipython3",
   "version": "3.6.0"
  }
 },
 "nbformat": 4,
 "nbformat_minor": 2
}
