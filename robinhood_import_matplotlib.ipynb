{
 "cells": [
  {
   "cell_type": "code",
   "execution_count": 6,
   "metadata": {
    "collapsed": true
   },
   "outputs": [],
   "source": [
    "import numpy as np\n",
    "import math\n",
    "import matplotlib.pyplot as plt\n",
    "%matplotlib inline\n",
    "\n",
    "from pandas_datareader import data as prd\n",
    "import datetime\n",
    "\n",
    "from scipy import stats"
   ]
  },
  {
   "cell_type": "code",
   "execution_count": 7,
   "metadata": {
    "collapsed": false
   },
   "outputs": [
    {
     "data": {
      "text/plain": [
       "<matplotlib.legend.Legend at 0x117d8aa58>"
      ]
     },
     "execution_count": 7,
     "metadata": {},
     "output_type": "execute_result"
    },
    {
     "data": {
      "image/png": "[encoded data removed]",
      "text/plain": [
       "<matplotlib.figure.Figure at 0x117bc0748>"
      ]
     },
     "metadata": {},
     "output_type": "display_data"
    }
   ],
   "source": [
    "x = np.linspace(0, 2*math.pi)\n",
    "plt.plot(x, np.sin(x), label = r'$\\sin(x)$')\n",
    "plt.plot(x, np.cos(x), 'ro', label = r'$\\cos(x)$')\n",
    "plt.title(r'Two Plots in a graph')\n",
    "plt.legend()"
   ]
  },
  {
   "cell_type": "code",
   "execution_count": 8,
   "metadata": {
    "collapsed": false
   },
   "outputs": [
    {
     "data": {
      "text/html": [
       "<div>\n",
       "<table border=\"1\" class=\"dataframe\">\n",
       "  <thead>\n",
       "    <tr style=\"text-align: right;\">\n",
       "      <th></th>\n",
       "      <th></th>\n",
       "      <th>close_price</th>\n",
       "      <th>high_price</th>\n",
       "      <th>interpolated</th>\n",
       "      <th>low_price</th>\n",
       "      <th>open_price</th>\n",
       "      <th>session</th>\n",
       "      <th>volume</th>\n",
       "    </tr>\n",
       "    <tr>\n",
       "      <th>symbol</th>\n",
       "      <th>begins_at</th>\n",
       "      <th></th>\n",
       "      <th></th>\n",
       "      <th></th>\n",
       "      <th></th>\n",
       "      <th></th>\n",
       "      <th></th>\n",
       "      <th></th>\n",
       "    </tr>\n",
       "  </thead>\n",
       "  <tbody>\n",
       "    <tr>\n",
       "      <th rowspan=\"5\" valign=\"top\">AAPL</th>\n",
       "      <th>2017-03-22</th>\n",
       "      <td>139.2176</td>\n",
       "      <td>139.3948</td>\n",
       "      <td>False</td>\n",
       "      <td>137.5835</td>\n",
       "      <td>137.6672</td>\n",
       "      <td>reg</td>\n",
       "      <td>25860165</td>\n",
       "    </tr>\n",
       "    <tr>\n",
       "      <th>2017-03-23</th>\n",
       "      <td>138.7254</td>\n",
       "      <td>139.3795</td>\n",
       "      <td>False</td>\n",
       "      <td>138.4203</td>\n",
       "      <td>139.0601</td>\n",
       "      <td>reg</td>\n",
       "      <td>20346301</td>\n",
       "    </tr>\n",
       "    <tr>\n",
       "      <th>2017-03-24</th>\n",
       "      <td>138.4498</td>\n",
       "      <td>139.5327</td>\n",
       "      <td>False</td>\n",
       "      <td>138.1643</td>\n",
       "      <td>139.2964</td>\n",
       "      <td>reg</td>\n",
       "      <td>22395563</td>\n",
       "    </tr>\n",
       "    <tr>\n",
       "      <th>2017-03-27</th>\n",
       "      <td>138.6861</td>\n",
       "      <td>139.0208</td>\n",
       "      <td>False</td>\n",
       "      <td>136.4613</td>\n",
       "      <td>137.2193</td>\n",
       "      <td>reg</td>\n",
       "      <td>23575094</td>\n",
       "    </tr>\n",
       "    <tr>\n",
       "      <th>2017-03-28</th>\n",
       "      <td>141.5606</td>\n",
       "      <td>141.7968</td>\n",
       "      <td>False</td>\n",
       "      <td>138.4301</td>\n",
       "      <td>138.7156</td>\n",
       "      <td>reg</td>\n",
       "      <td>33374805</td>\n",
       "    </tr>\n",
       "  </tbody>\n",
       "</table>\n",
       "</div>"
      ],
      "text/plain": [
       "                  close_price high_price interpolated low_price open_price  \\\n",
       "symbol begins_at                                                             \n",
       "AAPL   2017-03-22    139.2176   139.3948        False  137.5835   137.6672   \n",
       "       2017-03-23    138.7254   139.3795        False  138.4203   139.0601   \n",
       "       2017-03-24    138.4498   139.5327        False  138.1643   139.2964   \n",
       "       2017-03-27    138.6861   139.0208        False  136.4613   137.2193   \n",
       "       2017-03-28    141.5606   141.7968        False  138.4301   138.7156   \n",
       "\n",
       "                  session    volume  \n",
       "symbol begins_at                     \n",
       "AAPL   2017-03-22     reg  25860165  \n",
       "       2017-03-23     reg  20346301  \n",
       "       2017-03-24     reg  22395563  \n",
       "       2017-03-27     reg  23575094  \n",
       "       2017-03-28     reg  33374805  "
      ]
     },
     "execution_count": 8,
     "metadata": {},
     "output_type": "execute_result"
    }
   ],
   "source": [
    "start = datetime.datetime(2014,1,1)\n",
    "end = datetime.datetime(2014,12,31)\n",
    "df = prd.DataReader(\"AAPL\", 'robinhood', start,end)\n",
    "df.head()"
   ]
  },
  {
   "cell_type": "code",
   "execution_count": null,
   "metadata": {
    "collapsed": true
   },
   "outputs": [],
   "source": []
  }
 ],
 "metadata": {
  "kernelspec": {
   "display_name": "Python 3",
   "language": "python",
   "name": "python3"
  },
  "language_info": {
   "codemirror_mode": {
    "name": "ipython",
    "version": 3
   },
   "file_extension": ".py",
   "mimetype": "text/x-python",
   "name": "python",
   "nbconvert_exporter": "python",
   "pygments_lexer": "ipython3",
   "version": "3.6.0"
  }
 },
 "nbformat": 4,
 "nbformat_minor": 2
}
